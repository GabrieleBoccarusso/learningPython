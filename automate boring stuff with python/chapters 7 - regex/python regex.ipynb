{
 "cells": [
  {
   "cell_type": "markdown",
   "id": "stuck-yemen",
   "metadata": {},
   "source": [
    "# Regex in python"
   ]
  },
  {
   "cell_type": "markdown",
   "id": "ahead-gather",
   "metadata": {},
   "source": [
    "## basics"
   ]
  },
  {
   "cell_type": "code",
   "execution_count": 1,
   "id": "nasty-commander",
   "metadata": {},
   "outputs": [],
   "source": [
    "# importing the regex module\n",
    "import re"
   ]
  },
  {
   "cell_type": "code",
   "execution_count": null,
   "id": "controlled-address",
   "metadata": {},
   "outputs": [],
   "source": []
  },
  {
   "cell_type": "code",
   "execution_count": 7,
   "id": "forward-tours",
   "metadata": {},
   "outputs": [],
   "source": [
    "# example of basic regex for phone number\n",
    "phoneNumRegex = re.compile(r'\\d\\d\\d-\\d\\d\\d-\\d\\d\\d\\d')\n",
    "# \\d identify if in the evaluting position there is any number"
   ]
  },
  {
   "cell_type": "code",
   "execution_count": 3,
   "id": "rational-register",
   "metadata": {},
   "outputs": [],
   "source": [
    "# now the variable contains the regex object\n",
    "mo = phoneNumRegex.search('my number is 415-555-4242.')"
   ]
  },
  {
   "cell_type": "markdown",
   "id": "productive-remedy",
   "metadata": {},
   "source": [
    "the search method search the string in the regex, \n",
    "<br>if not found return None\n",
    "<br>if found return a match object which has the group() method that\n",
    "<br>returns the string"
   ]
  },
  {
   "cell_type": "code",
   "execution_count": 5,
   "id": "dutch-lingerie",
   "metadata": {},
   "outputs": [
    {
     "name": "stdout",
     "output_type": "stream",
     "text": [
      "Phone number is 415-555-4242\n"
     ]
    }
   ],
   "source": [
    "# mo is a generic variable that contains the object\n",
    "print(f'Phone number is {mo.group()}')"
   ]
  },
  {
   "cell_type": "markdown",
   "id": "transsexual-domestic",
   "metadata": {},
   "source": [
    "the group() method returns the matched string\n",
    "<br>if not found group() returns error"
   ]
  },
  {
   "cell_type": "markdown",
   "id": "processed-morning",
   "metadata": {},
   "source": [
    "## parenthesis"
   ]
  },
  {
   "cell_type": "code",
   "execution_count": 8,
   "id": "skilled-entry",
   "metadata": {},
   "outputs": [],
   "source": [
    "# parenthesis will create groups in the regex\n",
    "phoneNumRegex = re.compile(r'(\\d\\d\\d)-(\\d\\d\\d)-(\\d\\d\\d\\d)')"
   ]
  },
  {
   "cell_type": "code",
   "execution_count": 9,
   "id": "amateur-antenna",
   "metadata": {},
   "outputs": [],
   "source": [
    "mo = phoneNumRegex.search('my phone number is 415-555-4242')"
   ]
  },
  {
   "cell_type": "code",
   "execution_count": 12,
   "id": "revolutionary-container",
   "metadata": {},
   "outputs": [
    {
     "data": {
      "text/plain": [
       "('415', '555', '4242')"
      ]
     },
     "execution_count": 12,
     "metadata": {},
     "output_type": "execute_result"
    }
   ],
   "source": [
    "mo.group(1), mo.group(2), mo.group(3)"
   ]
  },
  {
   "cell_type": "code",
   "execution_count": 13,
   "id": "retained-slovakia",
   "metadata": {},
   "outputs": [
    {
     "data": {
      "text/plain": [
       "'415-555-4242'"
      ]
     },
     "execution_count": 13,
     "metadata": {},
     "output_type": "execute_result"
    }
   ],
   "source": [
    "mo.group(0)"
   ]
  },
  {
   "cell_type": "code",
   "execution_count": 24,
   "id": "running-writing",
   "metadata": {},
   "outputs": [
    {
     "data": {
      "text/plain": [
       "('415', '555', '4242')"
      ]
     },
     "execution_count": 24,
     "metadata": {},
     "output_type": "execute_result"
    }
   ],
   "source": [
    "mo.groups()\n",
    "# returns a tuple"
   ]
  },
  {
   "cell_type": "code",
   "execution_count": 22,
   "id": "flush-franklin",
   "metadata": {},
   "outputs": [],
   "source": [
    "# we can unpack them too\n",
    "areaCode, mainNumber_1, mainNumber_2 = mo.groups()"
   ]
  },
  {
   "cell_type": "code",
   "execution_count": 23,
   "id": "jewish-romantic",
   "metadata": {},
   "outputs": [
    {
     "name": "stdout",
     "output_type": "stream",
     "text": [
      "415\n",
      "555\n",
      "4242\n"
     ]
    },
    {
     "data": {
      "text/plain": [
       "(None, None, None)"
      ]
     },
     "execution_count": 23,
     "metadata": {},
     "output_type": "execute_result"
    }
   ],
   "source": [
    "print(areaCode), print(mainNumber_1), print(mainNumber_2)"
   ]
  },
  {
   "cell_type": "markdown",
   "id": "following-polls",
   "metadata": {},
   "source": [
    "## the escape character"
   ]
  },
  {
   "cell_type": "markdown",
   "id": "brazilian-albert",
   "metadata": {},
   "source": [
    "in regex the backslash \\ is an important escape character\n",
    "<br> that identify the character next to him as a normal \n",
    "<br> one instead of the special meaning that it could have.\n",
    "<br> If a phone number is similar to (415) 555-4242\n",
    "<br> we'll have to indicate that ( and ) aren't special character\n",
    "<br> but normal one to identify"
   ]
  },
  {
   "cell_type": "code",
   "execution_count": 36,
   "id": "circular-society",
   "metadata": {},
   "outputs": [],
   "source": [
    "phoneNumRegex = re.compile(r'(\\(\\d\\d\\d\\)) (\\d\\d\\d-\\d\\d\\d\\d)')"
   ]
  },
  {
   "cell_type": "code",
   "execution_count": 37,
   "id": "complete-tulsa",
   "metadata": {},
   "outputs": [],
   "source": [
    "mo = phoneNumRegex.search('My phone number is (415) 555-4242.')"
   ]
  },
  {
   "cell_type": "code",
   "execution_count": 38,
   "id": "structured-beijing",
   "metadata": {},
   "outputs": [
    {
     "data": {
      "text/plain": [
       "('(415)', '555-4242')"
      ]
     },
     "execution_count": 38,
     "metadata": {},
     "output_type": "execute_result"
    }
   ],
   "source": [
    "mo.group(1), mo.group(2)"
   ]
  },
  {
   "cell_type": "markdown",
   "id": "referenced-zoning",
   "metadata": {},
   "source": [
    "\\( and \\) in the raw string matches the actuale parethesis.\n",
    "<br> speacial characters with special menings are:"
   ]
  },
  {
   "cell_type": "code",
   "execution_count": 46,
   "id": "wired-dominant",
   "metadata": {},
   "outputs": [
    {
     "name": "stdout",
     "output_type": "stream",
     "text": [
      ". ^ $ + ? {  }  [  ]  \\  |  (  )\n"
     ]
    }
   ],
   "source": [
    "print('. ^ $ + ? {  }  [  ]  \\  |  (  )')"
   ]
  },
  {
   "cell_type": "markdown",
   "id": "pretty-photographer",
   "metadata": {},
   "source": [
    "if you want to match them you need to escape them"
   ]
  },
  {
   "cell_type": "code",
   "execution_count": 47,
   "id": "assured-effect",
   "metadata": {},
   "outputs": [
    {
     "name": "stdout",
     "output_type": "stream",
     "text": [
      "\\. \\^ \\$ \\+ \\? \\{ \\} \\[ \\] \\ \\| \\( \\)\n"
     ]
    }
   ],
   "source": [
    "print('\\. \\^ \\$ \\+ \\? \\{ \\} \\[ \\] \\\\ \\| \\( \\)')"
   ]
  },
  {
   "cell_type": "markdown",
   "id": "passing-trick",
   "metadata": {},
   "source": [
    "escape characters are simple but confusionary,\n",
    "<br> be cautious when you use them"
   ]
  },
  {
   "cell_type": "code",
   "execution_count": null,
   "id": "wanted-tuner",
   "metadata": {},
   "outputs": [],
   "source": []
  }
 ],
 "metadata": {
  "kernelspec": {
   "display_name": "Python 3",
   "language": "python",
   "name": "python3"
  },
  "language_info": {
   "codemirror_mode": {
    "name": "ipython",
    "version": 3
   },
   "file_extension": ".py",
   "mimetype": "text/x-python",
   "name": "python",
   "nbconvert_exporter": "python",
   "pygments_lexer": "ipython3",
   "version": "3.9.2"
  }
 },
 "nbformat": 4,
 "nbformat_minor": 5
}
