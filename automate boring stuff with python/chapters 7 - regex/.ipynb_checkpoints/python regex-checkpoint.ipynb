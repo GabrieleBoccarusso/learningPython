{
 "cells": [
  {
   "cell_type": "markdown",
   "id": "stuck-yemen",
   "metadata": {},
   "source": [
    "# Regex in python"
   ]
  },
  {
   "cell_type": "markdown",
   "id": "ahead-gather",
   "metadata": {},
   "source": [
    "## basics"
   ]
  },
  {
   "cell_type": "markdown",
   "id": "binding-lingerie",
   "metadata": {},
   "source": [
    "- useful links:\n",
    "    - [pythex](https://pythex.org/)"
   ]
  },
  {
   "cell_type": "code",
   "execution_count": 2,
   "id": "nasty-commander",
   "metadata": {},
   "outputs": [],
   "source": [
    "# importing the regex module\n",
    "import re"
   ]
  },
  {
   "cell_type": "code",
   "execution_count": 3,
   "id": "forward-tours",
   "metadata": {},
   "outputs": [],
   "source": [
    "# example of basic regex for phone number\n",
    "phoneNumRegex = re.compile(r'\\d\\d\\d-\\d\\d\\d-\\d\\d\\d\\d')\n",
    "# \\d identify if in the evaluting position there is any number"
   ]
  },
  {
   "cell_type": "code",
   "execution_count": 4,
   "id": "rational-register",
   "metadata": {},
   "outputs": [],
   "source": [
    "# now the variable contains the regex object\n",
    "mo = phoneNumRegex.search('my number is 415-555-4242.')"
   ]
  },
  {
   "cell_type": "markdown",
   "id": "productive-remedy",
   "metadata": {},
   "source": [
    "the search method search the string in the regex, \n",
    "<br>if not found return None\n",
    "<br>if found return a match object which has the group() method that\n",
    "<br>returns the string"
   ]
  },
  {
   "cell_type": "code",
   "execution_count": 5,
   "id": "dutch-lingerie",
   "metadata": {},
   "outputs": [
    {
     "name": "stdout",
     "output_type": "stream",
     "text": [
      "Phone number is 415-555-4242\n"
     ]
    }
   ],
   "source": [
    "# mo is a generic variable that contains the object\n",
    "print(f'Phone number is {mo.group()}')"
   ]
  },
  {
   "cell_type": "markdown",
   "id": "transsexual-domestic",
   "metadata": {},
   "source": [
    "the group() method returns the matched string\n",
    "<br>if not found group() returns error"
   ]
  },
  {
   "cell_type": "markdown",
   "id": "processed-morning",
   "metadata": {},
   "source": [
    "## parenthesis"
   ]
  },
  {
   "cell_type": "code",
   "execution_count": 6,
   "id": "skilled-entry",
   "metadata": {},
   "outputs": [],
   "source": [
    "# parenthesis will create groups in the regex\n",
    "phoneNumRegex = re.compile(r'(\\d\\d\\d)-(\\d\\d\\d)-(\\d\\d\\d\\d)')"
   ]
  },
  {
   "cell_type": "code",
   "execution_count": 7,
   "id": "amateur-antenna",
   "metadata": {},
   "outputs": [],
   "source": [
    "mo = phoneNumRegex.search('my phone number is 415-555-4242')"
   ]
  },
  {
   "cell_type": "code",
   "execution_count": 8,
   "id": "revolutionary-container",
   "metadata": {},
   "outputs": [
    {
     "data": {
      "text/plain": [
       "('415', '555', '4242')"
      ]
     },
     "execution_count": 8,
     "metadata": {},
     "output_type": "execute_result"
    }
   ],
   "source": [
    "mo.group(1), mo.group(2), mo.group(3)"
   ]
  },
  {
   "cell_type": "code",
   "execution_count": 9,
   "id": "retained-slovakia",
   "metadata": {},
   "outputs": [
    {
     "data": {
      "text/plain": [
       "'415-555-4242'"
      ]
     },
     "execution_count": 9,
     "metadata": {},
     "output_type": "execute_result"
    }
   ],
   "source": [
    "mo.group(0)"
   ]
  },
  {
   "cell_type": "code",
   "execution_count": 10,
   "id": "running-writing",
   "metadata": {},
   "outputs": [
    {
     "data": {
      "text/plain": [
       "('415', '555', '4242')"
      ]
     },
     "execution_count": 10,
     "metadata": {},
     "output_type": "execute_result"
    }
   ],
   "source": [
    "mo.groups()\n",
    "# returns a tuple"
   ]
  },
  {
   "cell_type": "code",
   "execution_count": 11,
   "id": "flush-franklin",
   "metadata": {},
   "outputs": [],
   "source": [
    "# we can unpack them too\n",
    "areaCode, mainNumber_1, mainNumber_2 = mo.groups()"
   ]
  },
  {
   "cell_type": "code",
   "execution_count": 12,
   "id": "jewish-romantic",
   "metadata": {},
   "outputs": [
    {
     "name": "stdout",
     "output_type": "stream",
     "text": [
      "415\n",
      "555\n",
      "4242\n"
     ]
    },
    {
     "data": {
      "text/plain": [
       "(None, None, None)"
      ]
     },
     "execution_count": 12,
     "metadata": {},
     "output_type": "execute_result"
    }
   ],
   "source": [
    "print(areaCode), print(mainNumber_1), print(mainNumber_2)"
   ]
  },
  {
   "cell_type": "markdown",
   "id": "following-polls",
   "metadata": {},
   "source": [
    "## the escape character"
   ]
  },
  {
   "cell_type": "markdown",
   "id": "brazilian-albert",
   "metadata": {},
   "source": [
    "in regex the backslash \\ is an important escape character\n",
    "<br> that identify the character next to him as a normal \n",
    "<br> one instead of the special meaning that it could have.\n",
    "<br> If a phone number is similar to (415) 555-4242\n",
    "<br> we'll have to indicate that ( and ) aren't special character\n",
    "<br> but normal one to identify"
   ]
  },
  {
   "cell_type": "code",
   "execution_count": 13,
   "id": "circular-society",
   "metadata": {},
   "outputs": [],
   "source": [
    "phoneNumRegex = re.compile(r'(\\(\\d\\d\\d\\)) (\\d\\d\\d-\\d\\d\\d\\d)')"
   ]
  },
  {
   "cell_type": "code",
   "execution_count": 14,
   "id": "complete-tulsa",
   "metadata": {},
   "outputs": [],
   "source": [
    "mo = phoneNumRegex.search('My phone number is (415) 555-4242.')"
   ]
  },
  {
   "cell_type": "code",
   "execution_count": 15,
   "id": "structured-beijing",
   "metadata": {},
   "outputs": [
    {
     "data": {
      "text/plain": [
       "('(415)', '555-4242')"
      ]
     },
     "execution_count": 15,
     "metadata": {},
     "output_type": "execute_result"
    }
   ],
   "source": [
    "mo.group(1), mo.group(2)"
   ]
  },
  {
   "cell_type": "markdown",
   "id": "referenced-zoning",
   "metadata": {},
   "source": [
    "\\( and \\) in the raw string matches the actuale parethesis.\n",
    "<br> speacial characters with special menings are:"
   ]
  },
  {
   "cell_type": "code",
   "execution_count": 16,
   "id": "wired-dominant",
   "metadata": {},
   "outputs": [
    {
     "name": "stdout",
     "output_type": "stream",
     "text": [
      ". ^ $ + ? {  }  [  ]  \\  |  (  )\n"
     ]
    }
   ],
   "source": [
    "print('. ^ $ + ? {  }  [  ]  \\  |  (  )')"
   ]
  },
  {
   "cell_type": "markdown",
   "id": "pretty-photographer",
   "metadata": {},
   "source": [
    "if you want to match them you need to escape them"
   ]
  },
  {
   "cell_type": "code",
   "execution_count": 17,
   "id": "assured-effect",
   "metadata": {},
   "outputs": [
    {
     "name": "stdout",
     "output_type": "stream",
     "text": [
      "\\. \\^ \\$ \\+ \\? \\{ \\} \\[ \\] \\ \\| \\( \\)\n"
     ]
    }
   ],
   "source": [
    "print('\\. \\^ \\$ \\+ \\? \\{ \\} \\[ \\] \\\\ \\| \\( \\)')"
   ]
  },
  {
   "cell_type": "markdown",
   "id": "passing-trick",
   "metadata": {},
   "source": [
    "escape characters are simple but confusionary,\n",
    "<br> be cautious when you use them"
   ]
  },
  {
   "cell_type": "markdown",
   "id": "commercial-bathroom",
   "metadata": {},
   "source": [
    "## the pipe regex"
   ]
  },
  {
   "cell_type": "markdown",
   "id": "turkish-aberdeen",
   "metadata": {},
   "source": [
    "| is called pipe and is used to match one of many expressions:"
   ]
  },
  {
   "cell_type": "code",
   "execution_count": 18,
   "id": "statutory-internship",
   "metadata": {},
   "outputs": [],
   "source": [
    "first_question = 'Do you know where Bob is? And what about Alice?'\n",
    "second_question = 'Have you seen Alice recently? Bob\\'s girlfriend'"
   ]
  },
  {
   "cell_type": "code",
   "execution_count": 19,
   "id": "graphic-pearl",
   "metadata": {},
   "outputs": [],
   "source": [
    "pipeRegex = re.compile(r'Bob|Alice')\n",
    "searching_bob = pipeRegex.search(first_question)"
   ]
  },
  {
   "cell_type": "code",
   "execution_count": 20,
   "id": "swedish-short",
   "metadata": {},
   "outputs": [
    {
     "data": {
      "text/plain": [
       "'Bob'"
      ]
     },
     "execution_count": 20,
     "metadata": {},
     "output_type": "execute_result"
    }
   ],
   "source": [
    "searching_bob.group()"
   ]
  },
  {
   "cell_type": "code",
   "execution_count": 21,
   "id": "surprised-agriculture",
   "metadata": {},
   "outputs": [
    {
     "data": {
      "text/plain": [
       "'Alice'"
      ]
     },
     "execution_count": 21,
     "metadata": {},
     "output_type": "execute_result"
    }
   ],
   "source": [
    "searching_alice = pipeRegex.search(second_question)\n",
    "searching_alice.group()"
   ]
  },
  {
   "cell_type": "markdown",
   "id": "governmental-cooper",
   "metadata": {},
   "source": [
    "we can even get one of various words which begins with the same characters using parenthesis"
   ]
  },
  {
   "cell_type": "code",
   "execution_count": 22,
   "id": "divine-biology",
   "metadata": {},
   "outputs": [],
   "source": [
    "question = 'Is that a serpent?'"
   ]
  },
  {
   "cell_type": "code",
   "execution_count": 23,
   "id": "unnecessary-watts",
   "metadata": {},
   "outputs": [
    {
     "data": {
      "text/plain": [
       "'serpent'"
      ]
     },
     "execution_count": 23,
     "metadata": {},
     "output_type": "execute_result"
    }
   ],
   "source": [
    "pipeRegex = re.compile(r's(nake|erpent)')\n",
    "mo = pipeRegex.search(question)\n",
    "mo.group()"
   ]
  },
  {
   "cell_type": "code",
   "execution_count": 24,
   "id": "commercial-italian",
   "metadata": {},
   "outputs": [
    {
     "data": {
      "text/plain": [
       "'erpent'"
      ]
     },
     "execution_count": 24,
     "metadata": {},
     "output_type": "execute_result"
    }
   ],
   "source": [
    "mo.group(1)"
   ]
  },
  {
   "cell_type": "markdown",
   "id": "presidential-compilation",
   "metadata": {},
   "source": [
    "## the utility of the question mark"
   ]
  },
  {
   "cell_type": "markdown",
   "id": "sitting-disclosure",
   "metadata": {},
   "source": [
    "using the question mark ? we can match a string whether a piece of text is in it\n",
    "<br> An useful case may be a phone number"
   ]
  },
  {
   "cell_type": "code",
   "execution_count": 25,
   "id": "played-edwards",
   "metadata": {},
   "outputs": [],
   "source": [
    "contact1 = 'You can contact me at +39 567 789 3409'\n",
    "contact2 = 'You can contact me at 567 789 3409'"
   ]
  },
  {
   "cell_type": "code",
   "execution_count": 26,
   "id": "wicked-undergraduate",
   "metadata": {},
   "outputs": [],
   "source": [
    "phoneNumRegex = re.compile(r'(\\+\\d\\d )?\\d\\d\\d \\d\\d\\d \\d\\d\\d\\d')"
   ]
  },
  {
   "cell_type": "code",
   "execution_count": 27,
   "id": "weekly-pittsburgh",
   "metadata": {},
   "outputs": [
    {
     "data": {
      "text/plain": [
       "'+39 567 789 3409'"
      ]
     },
     "execution_count": 27,
     "metadata": {},
     "output_type": "execute_result"
    }
   ],
   "source": [
    "phoneNum1 = phoneNumRegex.search(contact1)\n",
    "phoneNum1.group()"
   ]
  },
  {
   "cell_type": "code",
   "execution_count": 28,
   "id": "cutting-links",
   "metadata": {},
   "outputs": [
    {
     "data": {
      "text/plain": [
       "'567 789 3409'"
      ]
     },
     "execution_count": 28,
     "metadata": {},
     "output_type": "execute_result"
    }
   ],
   "source": [
    "phoneNum2= phoneNumRegex.search(contact2)\n",
    "phoneNum2.group()"
   ]
  },
  {
   "cell_type": "markdown",
   "id": "hydraulic-nickel",
   "metadata": {},
   "source": [
    "## Specific repetitions"
   ]
  },
  {
   "cell_type": "markdown",
   "id": "olympic-style",
   "metadata": {},
   "source": [
    "we can match specific patterns in our strings using braces { }\n",
    "<br> we put between parenthesis our regex and next to them \n",
    "<br> the braces with the number of times they should be repeated.\n",
    "<br> we can use it to better our regex for phone numbers"
   ]
  },
  {
   "cell_type": "code",
   "execution_count": 29,
   "id": "statewide-gravity",
   "metadata": {},
   "outputs": [],
   "source": [
    "betterRegex = re.compile(r'(\\+\\d\\d )?(\\d\\d\\d ){2}\\d\\d\\d\\d')"
   ]
  },
  {
   "cell_type": "code",
   "execution_count": 30,
   "id": "neutral-broadway",
   "metadata": {},
   "outputs": [
    {
     "data": {
      "text/plain": [
       "'+39 567 789 3409'"
      ]
     },
     "execution_count": 30,
     "metadata": {},
     "output_type": "execute_result"
    }
   ],
   "source": [
    "phoneNum1 = betterRegex.search(contact1)\n",
    "phoneNum1.group()"
   ]
  },
  {
   "cell_type": "markdown",
   "id": "acquired-sodium",
   "metadata": {},
   "source": [
    "let's see a simpler version"
   ]
  },
  {
   "cell_type": "code",
   "execution_count": 31,
   "id": "therapeutic-leader",
   "metadata": {},
   "outputs": [
    {
     "data": {
      "text/plain": [
       "'123456'"
      ]
     },
     "execution_count": 31,
     "metadata": {},
     "output_type": "execute_result"
    }
   ],
   "source": [
    "repRegex = re.compile(r'(\\d\\d\\d){2}')\n",
    "repRegex.search('random random 123456 rand').group()"
   ]
  },
  {
   "cell_type": "markdown",
   "id": "severe-determination",
   "metadata": {},
   "source": [
    "writing just the number between the brackes will match\n",
    "<br> a set of character only if it will be the specific number of times it will appear\n",
    "<br> writing {,5} will match any set that appear between 0 and 5 times,\n",
    "<br> {5,} will match only 5 or more sets and \n",
    "<br> {3, 5} will match between 3 and 5 sets"
   ]
  },
  {
   "cell_type": "markdown",
   "id": "downtown-association",
   "metadata": {},
   "source": [
    "## greedines"
   ]
  },
  {
   "cell_type": "markdown",
   "id": "paperback-graduate",
   "metadata": {},
   "source": [
    "we saw that (\\d\\d\\d){3,5} would match 3, 4 or 5 sets of three letters.\n",
    "<br> In ambiguos situations python's regex will match the longest\n",
    "<br> match because it is greedy by default, while a regex that\n",
    "<br> matches the shortest is called lazy or non-greedy\n",
    "<br> a lazy regex in python is obtained by putting a question \n",
    "<br> mark at the end of the regex.\n",
    "<br> note that in this cases it is not related to the\n",
    "<br> repetitions matching"
   ]
  },
  {
   "cell_type": "code",
   "execution_count": 32,
   "id": "middle-bridal",
   "metadata": {},
   "outputs": [
    {
     "data": {
      "text/plain": [
       "'12345678'"
      ]
     },
     "execution_count": 32,
     "metadata": {},
     "output_type": "execute_result"
    }
   ],
   "source": [
    "numbers = '123456789'\n",
    "\n",
    "# searching between 3 and 6 times for\n",
    "# a set of 2 letters\n",
    "greedyRegex = re.compile(r'(\\d\\d){3,6}')\n",
    "greedyRegex.search(numbers).group()"
   ]
  },
  {
   "cell_type": "code",
   "execution_count": 33,
   "id": "disciplinary-surrey",
   "metadata": {},
   "outputs": [
    {
     "data": {
      "text/plain": [
       "'123456'"
      ]
     },
     "execution_count": 33,
     "metadata": {},
     "output_type": "execute_result"
    }
   ],
   "source": [
    "# creating a non-greedy regex\n",
    "noGreedyRegex = re.compile(r'(\\d\\d){3,6}?')\n",
    "noGreedyRegex.search(numbers).group()"
   ]
  },
  {
   "cell_type": "markdown",
   "id": "backed-snake",
   "metadata": {},
   "source": [
    "## the findall method"
   ]
  },
  {
   "cell_type": "markdown",
   "id": "judicial-scanning",
   "metadata": {},
   "source": [
    "using the findall method the regex returns not the first match \n",
    "<br> but a tuple of all the matches in the string (if there is more then one)"
   ]
  },
  {
   "cell_type": "code",
   "execution_count": 34,
   "id": "noble-devil",
   "metadata": {},
   "outputs": [],
   "source": [
    "twoNumbers = '2 multiplied by 10 will be 20'"
   ]
  },
  {
   "cell_type": "code",
   "execution_count": 35,
   "id": "direct-acrobat",
   "metadata": {},
   "outputs": [
    {
     "data": {
      "text/plain": [
       "['10', '20']"
      ]
     },
     "execution_count": 35,
     "metadata": {},
     "output_type": "execute_result"
    }
   ],
   "source": [
    "findallRegex = re.compile(r'\\d\\d')\n",
    "findallRegex.findall(twoNumbers)"
   ]
  },
  {
   "cell_type": "markdown",
   "id": "romantic-brother",
   "metadata": {},
   "source": [
    "but a better example is one with phone numbers:"
   ]
  },
  {
   "cell_type": "code",
   "execution_count": 36,
   "id": "acceptable-ensemble",
   "metadata": {},
   "outputs": [],
   "source": [
    "phoneNumbers = 'my personal number is 123 789 1256 while the one for work is +39 745 856 1965.'"
   ]
  },
  {
   "cell_type": "code",
   "execution_count": 37,
   "id": "skilled-green",
   "metadata": {},
   "outputs": [
    {
     "data": {
      "text/plain": [
       "[('', '789 '), ('+39 ', '856 ')]"
      ]
     },
     "execution_count": 37,
     "metadata": {},
     "output_type": "execute_result"
    }
   ],
   "source": [
    "phoneNumbersRegex = re.compile(r'(\\+\\d\\d )?(\\d\\d\\d ){2}\\d\\d\\d\\d')\n",
    "phoneNumbersRegex.findall(phoneNumbers)\n",
    "# using our version of the phoneNumbers regex will return wrong tuples"
   ]
  },
  {
   "cell_type": "code",
   "execution_count": 38,
   "id": "deluxe-zimbabwe",
   "metadata": {},
   "outputs": [
    {
     "data": {
      "text/plain": [
       "[('', '123 ', '789 ', '1256'), ('+39 ', '745 ', '856 ', '1965')]"
      ]
     },
     "execution_count": 38,
     "metadata": {},
     "output_type": "execute_result"
    }
   ],
   "source": [
    "# with the findall method it's better to use a more explicit regex\n",
    "# with groups in parenthesis\n",
    "phoneNumbersRegex = re.compile(r'(\\+\\d\\d )?(\\d\\d\\d )(\\d\\d\\d )(\\d\\d\\d\\d)')\n",
    "phoneNumbersRegex.findall(phoneNumbers)"
   ]
  },
  {
   "cell_type": "markdown",
   "id": "atlantic-projection",
   "metadata": {},
   "source": [
    "## character classes"
   ]
  },
  {
   "cell_type": "markdown",
   "id": "foster-salon",
   "metadata": {},
   "source": [
    "till now we have used the \\d shortcut that behave \n",
    "<br>like (0|1|2|3|4|5|6|7|8|9)"
   ]
  },
  {
   "cell_type": "markdown",
   "id": "sonic-christian",
   "metadata": {},
   "source": [
    "shortcut | behavior |\n",
    "--- | ---  \n",
    "\\d | match any digit\n",
    "\\D | match anything isn't a digit\n",
    "\\s | match a blank space\n",
    "\\S | match a non-blank \n",
    "\\w | match any alphanumeric character\n",
    "\\W | match anything isn't an alphanumeric character"
   ]
  },
  {
   "cell_type": "raw",
   "id": "together-butler",
   "metadata": {},
   "source": [
    "### creating a class\n",
    "these are just shortcuts, but it will happen\n",
    "<br>that they mat be too broad. Creating a \n",
    "<br> personalized class is very easy:"
   ]
  },
  {
   "cell_type": "code",
   "execution_count": 39,
   "id": "verbal-offer",
   "metadata": {},
   "outputs": [
    {
     "data": {
      "text/plain": [
       "['a', 'a', 'e']"
      ]
     },
     "execution_count": 39,
     "metadata": {},
     "output_type": "execute_result"
    }
   ],
   "source": [
    "# regex that match all the vowels\n",
    "vRegex = re.compile(r'[aeiou]')\n",
    "vRegex.findall('alphabet')"
   ]
  },
  {
   "cell_type": "code",
   "execution_count": 40,
   "id": "north-seminar",
   "metadata": {},
   "outputs": [],
   "source": [
    "# if we want to match any digit between 1 and 6 we would simply type:\n",
    "Regex = re.compile(r'[1-6]')\n",
    "# and the same is true for letters:\n",
    "capitalRegex = re.compile(r'[A-Z]')\n",
    "# creating your own classes you don't need any \\ for special \n",
    "# character such as ? ! etc..."
   ]
  },
  {
   "cell_type": "code",
   "execution_count": 46,
   "id": "later-conservative",
   "metadata": {},
   "outputs": [
    {
     "data": {
      "text/plain": [
       "['e', 'l', 'c', 'o', 'm', 'e']"
      ]
     },
     "execution_count": 46,
     "metadata": {},
     "output_type": "execute_result"
    }
   ],
   "source": [
    "# putting ^ as first item of our personalized class \n",
    "# will match anything that isn't in it\n",
    "nonCapitalRegex = re.compile(r'[^A-Z]')\n",
    "nonCapitalRegex.findall('Welcome')"
   ]
  },
  {
   "cell_type": "markdown",
   "id": "flying-price",
   "metadata": {},
   "source": [
    "we can indicate that a pattern must be at the \n",
    "<br>begin or at the end of a string with the ^ (caret) and $ characters"
   ]
  },
  {
   "cell_type": "code",
   "execution_count": 54,
   "id": "isolated-queue",
   "metadata": {},
   "outputs": [],
   "source": [
    "string = 'Welcome to Arizona'"
   ]
  },
  {
   "cell_type": "code",
   "execution_count": 55,
   "id": "accurate-documentary",
   "metadata": {},
   "outputs": [
    {
     "data": {
      "text/plain": [
       "<re.Match object; span=(0, 7), match='Welcome'>"
      ]
     },
     "execution_count": 55,
     "metadata": {},
     "output_type": "execute_result"
    }
   ],
   "source": [
    "welcomeFirst = re.compile(r'^Welcome')\n",
    "welcomeFirst.search(string)"
   ]
  },
  {
   "cell_type": "code",
   "execution_count": 56,
   "id": "wrapped-bones",
   "metadata": {},
   "outputs": [
    {
     "data": {
      "text/plain": [
       "<re.Match object; span=(11, 18), match='Arizona'>"
      ]
     },
     "execution_count": 56,
     "metadata": {},
     "output_type": "execute_result"
    }
   ],
   "source": [
    "arizonaLast = re.compile(r'Arizona$')\n",
    "arizonaLast.search(string)"
   ]
  },
  {
   "cell_type": "code",
   "execution_count": null,
   "id": "advance-instrumentation",
   "metadata": {},
   "outputs": [],
   "source": []
  }
 ],
 "metadata": {
  "kernelspec": {
   "display_name": "Python 3",
   "language": "python",
   "name": "python3"
  },
  "language_info": {
   "codemirror_mode": {
    "name": "ipython",
    "version": 3
   },
   "file_extension": ".py",
   "mimetype": "text/x-python",
   "name": "python",
   "nbconvert_exporter": "python",
   "pygments_lexer": "ipython3",
   "version": "3.9.2"
  }
 },
 "nbformat": 4,
 "nbformat_minor": 5
}
