{
 "cells": [
  {
   "cell_type": "markdown",
   "id": "talented-paradise",
   "metadata": {},
   "source": [
    "## Creating a class"
   ]
  },
  {
   "cell_type": "markdown",
   "id": "assumed-spoke",
   "metadata": {},
   "source": [
    "A class is a bluprint to create objects in python. <br>\n",
    "we create a class in python using the keyword `class`. <br>\n",
    "the keyword `pass` initalizes a void function. <br>\n",
    "this keyword will be very useful later."
   ]
  },
  {
   "cell_type": "code",
   "execution_count": 118,
   "id": "metallic-substitute",
   "metadata": {},
   "outputs": [],
   "source": [
    "class Animal():\n",
    "    pass"
   ]
  },
  {
   "cell_type": "markdown",
   "id": "advisory-beaver",
   "metadata": {},
   "source": [
    "To initialize a function we use the keyword `__init__` <br>\n",
    "as we would treat a function for then declare the *properties*, the variable which belongs to a class/object <br>\n",
    "in the arguments of init have to put at least one variable, usually called *self* as best pratice"
   ]
  },
  {
   "cell_type": "code",
   "execution_count": 119,
   "id": "bibliographic-producer",
   "metadata": {},
   "outputs": [],
   "source": [
    "class Animal():\n",
    "    # with self we put the properties that we want into the class\n",
    "    def __init__(self, num_legs, wings):\n",
    "        # to initialize the props python use that syntax:\n",
    "        self.num_legs = num_legs\n",
    "        self.wings = wings\n",
    "        # this to initialize this variables *into* the object\n",
    "        # we are creating"
   ]
  },
  {
   "cell_type": "markdown",
   "id": "ready-concept",
   "metadata": {},
   "source": [
    "to create an object from a class we have to assign it to a variable with the values of the props in the call:"
   ]
  },
  {
   "cell_type": "code",
   "execution_count": 120,
   "id": "velvet-romance",
   "metadata": {},
   "outputs": [],
   "source": [
    "wolf = Animal(4, 0)"
   ]
  },
  {
   "cell_type": "markdown",
   "id": "internal-mouth",
   "metadata": {},
   "source": [
    "creating on object with properties without inserting them will lead to an error"
   ]
  },
  {
   "cell_type": "code",
   "execution_count": 129,
   "id": "color-click",
   "metadata": {},
   "outputs": [
    {
     "ename": "TypeError",
     "evalue": "__init__() missing 2 required positional arguments: 'num_legs' and 'wings'",
     "output_type": "error",
     "traceback": [
      "\u001b[1;31m---------------------------------------------------------------------------\u001b[0m",
      "\u001b[1;31mTypeError\u001b[0m                                 Traceback (most recent call last)",
      "\u001b[1;32m<ipython-input-129-103edb4af993>\u001b[0m in \u001b[0;36m<module>\u001b[1;34m\u001b[0m\n\u001b[1;32m----> 1\u001b[1;33m \u001b[0mfox\u001b[0m \u001b[1;33m=\u001b[0m \u001b[0mAnimal\u001b[0m\u001b[1;33m(\u001b[0m\u001b[1;33m)\u001b[0m\u001b[1;33m\u001b[0m\u001b[1;33m\u001b[0m\u001b[0m\n\u001b[0m",
      "\u001b[1;31mTypeError\u001b[0m: __init__() missing 2 required positional arguments: 'num_legs' and 'wings'"
     ]
    }
   ],
   "source": [
    "fox = Animal()"
   ]
  },
  {
   "cell_type": "markdown",
   "id": "democratic-oliver",
   "metadata": {},
   "source": [
    "we have now created the object wolf, which has 4 legs and is not true that has wings"
   ]
  },
  {
   "cell_type": "code",
   "execution_count": 122,
   "id": "surrounded-stock",
   "metadata": {},
   "outputs": [
    {
     "name": "stdout",
     "output_type": "stream",
     "text": [
      "4\n"
     ]
    }
   ],
   "source": [
    "# to see the values of our object we use the dot notation: object.property\n",
    "print(wolf.num_legs)"
   ]
  },
  {
   "cell_type": "markdown",
   "id": "apparent-wheel",
   "metadata": {},
   "source": [
    "## Adding methods\n",
    "The true power of object relies into what they can do, <br>\n",
    "A method is a function of the object and that can change its status:"
   ]
  },
  {
   "cell_type": "code",
   "execution_count": 123,
   "id": "improving-guinea",
   "metadata": {},
   "outputs": [],
   "source": [
    "# re-writing the class animal\n",
    "class Animal():\n",
    "    def __init__(self, num_legs, wings):\n",
    "        self.num_legs = num_legs\n",
    "        self.wings = wings\n",
    "    \n",
    "    # a method of an object has as first argument\n",
    "    # self\n",
    "    def canFly(self):\n",
    "        if self.wings == False:\n",
    "            print('this animal can\\'t fly')\n",
    "        else:\n",
    "            print('this animal can fly')\n",
    "            \n",
    "    def unLuckyEvent(self):\n",
    "        print('Something very bad happened to the animal...')\n",
    "        self.num_legs -= 1\n",
    "        print(f'now it has only {self.num_legs} legs...')\n",
    "        \n",
    "wolf = Animal(4, False)"
   ]
  },
  {
   "cell_type": "code",
   "execution_count": 124,
   "id": "decreased-allowance",
   "metadata": {},
   "outputs": [
    {
     "name": "stdout",
     "output_type": "stream",
     "text": [
      "this animal can't fly\n"
     ]
    }
   ],
   "source": [
    "# using an object method\n",
    "wolf.canFly()"
   ]
  },
  {
   "cell_type": "code",
   "execution_count": 130,
   "id": "electrical-botswana",
   "metadata": {},
   "outputs": [
    {
     "name": "stdout",
     "output_type": "stream",
     "text": [
      "3\n"
     ]
    }
   ],
   "source": [
    "# changing the interal status of the object\n",
    "print(wolf.num_legs)"
   ]
  },
  {
   "cell_type": "code",
   "execution_count": 131,
   "id": "cultural-boating",
   "metadata": {},
   "outputs": [
    {
     "name": "stdout",
     "output_type": "stream",
     "text": [
      "Something very bad happened to the animal...\n",
      "now it has only 2 legs...\n"
     ]
    }
   ],
   "source": [
    "wolf.unLuckyEvent()"
   ]
  },
  {
   "cell_type": "code",
   "execution_count": 132,
   "id": "critical-mason",
   "metadata": {},
   "outputs": [
    {
     "name": "stdout",
     "output_type": "stream",
     "text": [
      "2\n"
     ]
    }
   ],
   "source": [
    "# checking the object\n",
    "print(wolf.num_legs)"
   ]
  },
  {
   "cell_type": "markdown",
   "id": "played-bikini",
   "metadata": {},
   "source": [
    "## Inheritance"
   ]
  },
  {
   "cell_type": "markdown",
   "id": "thermal-nicholas",
   "metadata": {},
   "source": [
    "creating objects is important to define an *hierarchy* of classes. <br>\n",
    "Inheritance let us build a class on top of another class. <br>\n",
    "the class that get inherited from is called **parent class** <br>\n",
    "the class that inherit from is called **child class** "
   ]
  },
  {
   "cell_type": "code",
   "execution_count": 133,
   "id": "native-mileage",
   "metadata": {},
   "outputs": [],
   "source": [
    "class Fox(Animal):\n",
    "    # with the keyword pass we have a class\n",
    "    # identical to the parent\n",
    "    pass"
   ]
  },
  {
   "cell_type": "code",
   "execution_count": 134,
   "id": "vertical-camera",
   "metadata": {},
   "outputs": [],
   "source": [
    "articFox = Fox(4, 0)"
   ]
  },
  {
   "cell_type": "code",
   "execution_count": 135,
   "id": "indie-ranch",
   "metadata": {},
   "outputs": [
    {
     "name": "stdout",
     "output_type": "stream",
     "text": [
      "Something very bad happened to the animal...\n",
      "now it has only 3 legs...\n"
     ]
    }
   ],
   "source": [
    "articFox.unLuckyEvent()"
   ]
  },
  {
   "cell_type": "code",
   "execution_count": 136,
   "id": "adopted-dynamics",
   "metadata": {},
   "outputs": [
    {
     "name": "stdout",
     "output_type": "stream",
     "text": [
      "3\n"
     ]
    }
   ],
   "source": [
    "print(articFox.num_legs)"
   ]
  },
  {
   "cell_type": "markdown",
   "id": "owned-competition",
   "metadata": {},
   "source": [
    "adding the init function to a child class it will override the parent's one"
   ]
  },
  {
   "cell_type": "code",
   "execution_count": 137,
   "id": "superb-slovenia",
   "metadata": {},
   "outputs": [],
   "source": [
    "class Fox(Animal):\n",
    "    def __init__(self, num_legs, fur_color):\n",
    "        self.num_legs = num_legs\n",
    "        self.fur_color = fur_color"
   ]
  },
  {
   "cell_type": "code",
   "execution_count": 138,
   "id": "growing-valley",
   "metadata": {},
   "outputs": [],
   "source": [
    "southernFox = Fox(4, 'red')"
   ]
  },
  {
   "cell_type": "code",
   "execution_count": 139,
   "id": "acquired-architecture",
   "metadata": {},
   "outputs": [
    {
     "name": "stdout",
     "output_type": "stream",
     "text": [
      "Something very bad happened to the animal...\n",
      "now it has only 3 legs...\n"
     ]
    }
   ],
   "source": [
    "# only the properties are overrided, the methods remains\n",
    "southernFox.unLuckyEvent()"
   ]
  },
  {
   "cell_type": "code",
   "execution_count": 140,
   "id": "spectacular-recipe",
   "metadata": {},
   "outputs": [
    {
     "name": "stdout",
     "output_type": "stream",
     "text": [
      "3\n"
     ]
    }
   ],
   "source": [
    "print(southernFox.num_legs)"
   ]
  },
  {
   "cell_type": "markdown",
   "id": "explicit-shore",
   "metadata": {},
   "source": [
    "### The `super()` function"
   ]
  },
  {
   "cell_type": "markdown",
   "id": "offensive-finder",
   "metadata": {},
   "source": [
    "in the init function we can also use the `super` function <br>\n",
    "so that the child class can inherit the parent's properties too"
   ]
  },
  {
   "cell_type": "code",
   "execution_count": 143,
   "id": "difficult-bedroom",
   "metadata": {},
   "outputs": [],
   "source": [
    "class Fox(Animal):\n",
    "    # in the init we put all the props of the class\n",
    "    def __init__(self, num_legs, wings, fur_color):\n",
    "        ## in the super we put the props of the parents alone\n",
    "        super().__init__(num_legs, wings)\n",
    "        # then we define the props of the child \n",
    "        self.fur_color = fur_color\n",
    "\n",
    "southernFox = Fox(4, False, 'red')"
   ]
  },
  {
   "cell_type": "code",
   "execution_count": 144,
   "id": "ecological-momentum",
   "metadata": {},
   "outputs": [
    {
     "name": "stdout",
     "output_type": "stream",
     "text": [
      "red\n"
     ]
    }
   ],
   "source": [
    "print(southernFox.fur_color)"
   ]
  },
  {
   "cell_type": "code",
   "execution_count": 145,
   "id": "institutional-folder",
   "metadata": {},
   "outputs": [
    {
     "name": "stdout",
     "output_type": "stream",
     "text": [
      "Something very bad happened to the animal...\n",
      "now it has only 3 legs...\n"
     ]
    }
   ],
   "source": [
    "southernFox.unLuckyEvent()"
   ]
  },
  {
   "cell_type": "code",
   "execution_count": 146,
   "id": "instructional-republic",
   "metadata": {},
   "outputs": [
    {
     "name": "stdout",
     "output_type": "stream",
     "text": [
      "3\n"
     ]
    }
   ],
   "source": [
    "print(southernFox.num_legs)"
   ]
  },
  {
   "cell_type": "markdown",
   "id": "peaceful-enforcement",
   "metadata": {},
   "source": [
    "but we don't have to always write all the pros while creating the object, <br>\n",
    "we can just assign a value to them if it will be always the same"
   ]
  },
  {
   "cell_type": "code",
   "execution_count": 147,
   "id": "sexual-viewer",
   "metadata": {},
   "outputs": [],
   "source": [
    "class Fox(Animal):\n",
    "    def __init__(self, num_legs, wings, fur_color):\n",
    "        super().__init__(num_legs, wings)\n",
    "        self.fur_color = fur_color\n",
    "        # some props will be always the same and can't change\n",
    "        self.family = 'canidae'\n",
    "\n",
    "southernFox = Fox(4, False, 'red')"
   ]
  },
  {
   "cell_type": "code",
   "execution_count": 148,
   "id": "infinite-camcorder",
   "metadata": {},
   "outputs": [
    {
     "name": "stdout",
     "output_type": "stream",
     "text": [
      "canidae\n"
     ]
    }
   ],
   "source": [
    "print(southernFox.family)"
   ]
  },
  {
   "cell_type": "markdown",
   "id": "german-aurora",
   "metadata": {},
   "source": [
    "the same about props is true for methods"
   ]
  },
  {
   "cell_type": "code",
   "execution_count": 149,
   "id": "respected-mainstream",
   "metadata": {},
   "outputs": [],
   "source": [
    "class Fox(Animal):\n",
    "    def __init__(self, num_legs, wings, fur_color):\n",
    "        super().__init__(num_legs, wings)\n",
    "        self.fur_color = fur_color\n",
    "        self.family = 'canidae'\n",
    "        \n",
    "    # if a child's method has the same name of a parent's method\n",
    "    # the parent one will be overwritten\n",
    "    def explanation(self):\n",
    "        print(f'The fox is a type of {self.family},\\nthis in particular has a {self.fur_color} fur')"
   ]
  },
  {
   "cell_type": "code",
   "execution_count": 150,
   "id": "present-depth",
   "metadata": {},
   "outputs": [],
   "source": [
    "southernFox = Fox(4, False, 'red')"
   ]
  },
  {
   "cell_type": "code",
   "execution_count": 151,
   "id": "decent-tennessee",
   "metadata": {},
   "outputs": [
    {
     "name": "stdout",
     "output_type": "stream",
     "text": [
      "The fox is a type of canidae,\n",
      "this in particular has a red fur\n"
     ]
    }
   ],
   "source": [
    "southernFox.explanation()"
   ]
  }
 ],
 "metadata": {
  "kernelspec": {
   "display_name": "Python 3",
   "language": "python",
   "name": "python3"
  },
  "language_info": {
   "codemirror_mode": {
    "name": "ipython",
    "version": 3
   },
   "file_extension": ".py",
   "mimetype": "text/x-python",
   "name": "python",
   "nbconvert_exporter": "python",
   "pygments_lexer": "ipython3",
   "version": "3.9.2"
  }
 },
 "nbformat": 4,
 "nbformat_minor": 5
}
